{
 "cells": [
  {
   "cell_type": "code",
   "execution_count": null,
   "metadata": {},
   "outputs": [
    {
     "ename": "",
     "evalue": "",
     "output_type": "error",
     "traceback": [
      "\u001b[1;31mRunning cells with 'c:\\Users\\Admin\\AppData\\Local\\Programs\\Python\\Python311\\python.exe' requires the ipykernel package.\n",
      "\u001b[1;31mRun the following command to install 'ipykernel' into the Python environment. \n",
      "\u001b[1;31mCommand: 'c:/Users/Admin/AppData/Local/Programs/Python/Python311/python.exe -m pip install ipykernel -U --user --force-reinstall'"
     ]
    }
   ],
   "source": [
    "import matplotlib.pyplot as plt\n",
    "import seaborn as sns\n",
    "import pandas as pd\n",
    "\n",
    "\n",
    "# Data\n",
    "video_times = [102.21, 105.21, 106.49, 131, 134.19, 160, 186.02, 190, 259, 264.06]\n",
    "execution_times_pp1 = [135.801179, 172.688566, 187.946619, 215.060804, 264.138605, 269.63634, 229.486098, 221.212959, 333.263632, 337.264878]\n",
    "execution_times_pp2 = [193.078571, 319.208466, 462.12815, 270.96423, 320.733405, 307.205031, 359.313912, 332.858238, 485.692685, 588.941718]\n",
    "\n",
    "# Create a DataFrame from the data\n",
    "data = pd.DataFrame({\n",
    "    'Video Times': video_times,\n",
    "    'Google-cloud': execution_times_pp1,\n",
    "    'Openai-whisper': execution_times_pp2\n",
    "})\n",
    "\n",
    "# Set Seaborn style\n",
    "sns.set(style=\"whitegrid\")\n",
    "\n",
    "# Create the plot\n",
    "plt.figure(figsize=(10, 6))\n",
    "\n",
    "# Use lineplot with hue to distinguish between the two methods\n",
    "ax = sns.lineplot(x='Video Times', y='value', hue='variable', style='variable', markers=True, dashes=False, data=pd.melt(data, ['Video Times']))\n",
    "\n",
    "# Set labels for x and y axes\n",
    "plt.xlabel('Video Time (seconds)', fontsize=12)\n",
    "plt.ylabel('Processing Time (seconds)', fontsize=12)\n",
    "\n",
    "# Set title for the plot\n",
    "\n",
    "# Show legend with a title\n",
    "plt.legend(title='Speech-to-Text', fontsize=10)\n",
    "\n",
    "# Improve legend position\n",
    "# plt.legend(title='Method', fontsize=10, bbox_to_anchor=(1.05, 1), loc='upper left')\n",
    "\n",
    "# Add grid lines to both axes\n",
    "ax.grid(True, linestyle='--', alpha=0.7)\n",
    "\n",
    "# Show the plot\n",
    "plt.show()\n",
    "\n",
    "\n",
    "\n",
    "\n"
   ]
  }
 ],
 "metadata": {
  "kernelspec": {
   "display_name": "Python 3",
   "language": "python",
   "name": "python3"
  },
  "language_info": {
   "name": "python",
   "version": "3.11.1"
  }
 },
 "nbformat": 4,
 "nbformat_minor": 2
}
