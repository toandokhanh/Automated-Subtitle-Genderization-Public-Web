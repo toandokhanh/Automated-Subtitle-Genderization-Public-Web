{
 "cells": [
  {
   "cell_type": "markdown",
   "id": "776b1b3b",
   "metadata": {},
   "source": [
    "# Tien xu ly am thanh\n",
    "## Cat file"
   ]
  },
  {
   "cell_type": "code",
   "execution_count": 4,
   "id": "a9f443b6",
   "metadata": {},
   "outputs": [],
   "source": [
    "from pydub import AudioSegment\n",
    "import os\n",
    "\n",
    "def process_audio_files(input_folder, output_folder):\n",
    "    # Kiểm tra xem thư mục tồn tại không\n",
    "    if not os.path.exists(input_folder):\n",
    "        print(f\"Thư mục '{input_folder}' không tồn tại.\")\n",
    "        return\n",
    "\n",
    "    # Tạo thư mục đầu ra nếu nó chưa tồn tại\n",
    "    if not os.path.exists(output_folder):\n",
    "        os.makedirs(output_folder)\n",
    "\n",
    "    # Duyệt qua tất cả các file trong thư mục\n",
    "    for filename in os.listdir(input_folder):\n",
    "        input_filepath = os.path.join(input_folder, filename)\n",
    "\n",
    "        # Kiểm tra nếu là file và có đuôi là '.wav'\n",
    "        if os.path.isfile(input_filepath) and filename.lower().endswith('.wav'):\n",
    "            # Đọc file âm thanh\n",
    "            audio = AudioSegment.from_wav(input_filepath)\n",
    "\n",
    "            # Chia thành các đoạn dài 1 giây\n",
    "            one_second_chunks = [audio[i:i+1000] for i in range(0, len(audio), 1000)]\n",
    "\n",
    "            # Lưu các đoạn có âm thanh rõ đủ lớn vào thư mục đầu ra\n",
    "            for i, chunk in enumerate(one_second_chunks):\n",
    "                if chunk.dBFS > -40:  # Điều chỉnh ngưỡng âm thanh tùy chọn\n",
    "                    output_filepath = os.path.join(output_folder, f\"{filename}_chunk{i}.wav\")\n",
    "                    chunk.export(output_filepath, format=\"wav\")\n",
    "\n",
    "# Thực hiện xử lý trong thư mục \"./dataset\" và lưu kết quả vào thư mục \"./processed\"\n",
    "process_audio_files(\"./dataset\", \"./processed\")\n"
   ]
  },
  {
   "cell_type": "code",
   "execution_count": 5,
   "id": "ee262816",
   "metadata": {},
   "outputs": [],
   "source": [
    "# loc file\n",
    "\n",
    "from pydub import AudioSegment\n",
    "import os\n",
    "\n",
    "def filter_audio_quality(input_folder):\n",
    "    # Kiểm tra xem thư mục tồn tại không\n",
    "    if not os.path.exists(input_folder):\n",
    "        print(f\"Thư mục '{input_folder}' không tồn tại.\")\n",
    "        return\n",
    "\n",
    "    # Duyệt qua tất cả các file trong thư mục\n",
    "    for filename in os.listdir(input_folder):\n",
    "        input_filepath = os.path.join(input_folder, filename)\n",
    "\n",
    "        # Kiểm tra nếu là file và có đuôi là '.wav'\n",
    "        if os.path.isfile(input_filepath) and filename.lower().endswith('.wav'):\n",
    "            # Đọc file âm thanh\n",
    "            audio = AudioSegment.from_wav(input_filepath)\n",
    "\n",
    "            # Kiểm tra chất lượng âm thanh\n",
    "            if not is_good_audio_quality(audio):\n",
    "                print(f\"Xóa bỏ file: {filename}\")\n",
    "                os.remove(input_filepath)\n",
    "\n",
    "def is_good_audio_quality(audio):\n",
    "    # Kiểm tra chất lượng âm thanh dựa trên một số tiêu chí\n",
    "    # Ví dụ: Kiểm tra âm thanh có độ dài ít nhất 200 ms và có dBFS lớn hơn -50\n",
    "    return len(audio) >= 200 and audio.dBFS > -50\n",
    "\n",
    "# Thực hiện lọc chất lượng âm thanh trong thư mục \"./processed\"\n",
    "filter_audio_quality(\"./processed\")\n"
   ]
  },
  {
   "cell_type": "code",
   "execution_count": null,
   "id": "917db390",
   "metadata": {},
   "outputs": [],
   "source": []
  }
 ],
 "metadata": {
  "kernelspec": {
   "display_name": "Python 3 (ipykernel)",
   "language": "python",
   "name": "python3"
  },
  "language_info": {
   "codemirror_mode": {
    "name": "ipython",
    "version": 3
   },
   "file_extension": ".py",
   "mimetype": "text/x-python",
   "name": "python",
   "nbconvert_exporter": "python",
   "pygments_lexer": "ipython3",
   "version": "3.10.6"
  }
 },
 "nbformat": 4,
 "nbformat_minor": 5
}
